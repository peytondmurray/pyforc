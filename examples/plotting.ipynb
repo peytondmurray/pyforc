{
 "cells": [
  {
   "cell_type": "code",
   "execution_count": null,
   "id": "7f1adec8-deaf-4b19-87f3-14964856149c",
   "metadata": {
    "tags": []
   },
   "outputs": [],
   "source": [
    "import matplotlib.pyplot as plt\n",
    "import pyforc.core as pfc"
   ]
  },
  {
   "cell_type": "code",
   "execution_count": null,
   "id": "5510a1b0-f666-4f51-8413-e6284377c32a",
   "metadata": {},
   "outputs": [],
   "source": [
    "f = pfc.forc.Forc(\n",
    "    pfc.ingester.PMCIngester,\n",
    "    pfc.config.Config(\n",
    "        file_name='../tests/fixtures/hchb_forc',\n",
    "        interpolation='linear',\n",
    "        pipeline=[\n",
    "            pfc.ops.correct_drift,\n",
    "            pfc.ops.interpolate,\n",
    "            pfc.ops.correct_slope,\n",
    "            pfc.ops.normalize,\n",
    "            pfc.ops.compute_forc_distribution,\n",
    "        ],\n",
    "        h_sat=3500,\n",
    "    )\n",
    ")"
   ]
  },
  {
   "cell_type": "code",
   "execution_count": null,
   "id": "f8bf0a2f-879b-4821-a683-47f2f3a85077",
   "metadata": {},
   "outputs": [],
   "source": [
    "fig, ax = plt.subplots(figsize=(15, 10))\n",
    "pfc.plot.imshow(f, 'm', ax=ax)"
   ]
  },
  {
   "cell_type": "code",
   "execution_count": null,
   "id": "85dc0442-5611-4e0c-a908-acd083e0cce4",
   "metadata": {},
   "outputs": [],
   "source": [
    "pfc.plot.imshow(f, 'rho')"
   ]
  },
  {
   "cell_type": "code",
   "execution_count": null,
   "id": "5c7a157f-7391-4c4d-b134-4d8f9db8a1fe",
   "metadata": {},
   "outputs": [],
   "source": [
    "pfc.plot.curves(f)"
   ]
  }
 ],
 "metadata": {
  "kernelspec": {
   "display_name": "Python 3 (ipykernel)",
   "language": "python",
   "name": "python3"
  },
  "language_info": {
   "codemirror_mode": {
    "name": "ipython",
    "version": 3
   },
   "file_extension": ".py",
   "mimetype": "text/x-python",
   "name": "python",
   "nbconvert_exporter": "python",
   "pygments_lexer": "ipython3",
   "version": "3.12.1"
  }
 },
 "nbformat": 4,
 "nbformat_minor": 5
}
